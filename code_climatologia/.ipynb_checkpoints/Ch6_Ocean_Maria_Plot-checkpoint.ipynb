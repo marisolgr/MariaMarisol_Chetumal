{
 "cells": [
  {
   "cell_type": "markdown",
   "id": "7c6f1aca",
   "metadata": {},
   "source": [
    "# Plot SST data"
   ]
  },
  {
   "cell_type": "code",
   "execution_count": null,
   "id": "1a5acb24",
   "metadata": {},
   "outputs": [],
   "source": [
    "import warnings \n",
    "warnings.simplefilter('ignore') \n",
    "import numpy as np\n",
    "import pandas as pd\n",
    "import xarray as xr\n",
    "import matplotlib.pyplot as plt \n",
    "# import fsspec # these libraries help reading cloud data\n",
    "#import s3fs\n",
    "#import dask\n",
    "#from dask.distributed import performance_report, Client, progress"
   ]
  },
  {
   "cell_type": "code",
   "execution_count": null,
   "id": "b812f777",
   "metadata": {},
   "outputs": [],
   "source": [
    "plt.figure(figsize=(14,4))\n",
    "for i in range(3):\n",
    "    if i==0:\n",
    "        fn=('sst_large_oct2018-jan2019.nc')\n",
    "    elif i==1:\n",
    "        fn=('sst_large_feb-may2019.nc')\n",
    "    else:\n",
    "        fn='sst_large_jun-sep2019.nc'\n",
    "    sst1=xr.open_dataset('../data/'+fn)\n",
    "    sst1.close()\n",
    "    sst1= sst1.analysed_sst\n",
    "    \n",
    "    plt.subplot(1,3,i+1)\n",
    "    sst1.plot(cmap='RdYlBu_r', vmin=27, vmax=30)\n",
    "    plt.plot(-87.71,18.72,'r.')\n",
    "    plt.plot(-87.83,18.27,'r.')\n",
    "    plt.plot([-87.9, -87.7,-87.7,-87.9,-87.9],[18.20,18.20,18.70,18.70,18.20],'k-')\n",
    "    plt.title(fn[10:-3])\n",
    "\n",
    "plt.tight_layout()"
   ]
  },
  {
   "cell_type": "code",
   "execution_count": null,
   "id": "1c2b75fb",
   "metadata": {},
   "outputs": [],
   "source": [
    "ssts = xr.open_dataset('../data/SST_2002-2020_small.nc') \n",
    "ssts.close()\n",
    "ssts = ssts.analysed_sst # select only one variable"
   ]
  },
  {
   "cell_type": "code",
   "execution_count": null,
   "id": "12a029fe",
   "metadata": {},
   "outputs": [],
   "source": [
    "sstl = xr.open_dataset('../data/SST_2002-2020_large.nc') \n",
    "sstl.close()\n",
    "sstl = sstl.analysed_sst # select only one variable"
   ]
  },
  {
   "cell_type": "code",
   "execution_count": null,
   "id": "348dc643",
   "metadata": {},
   "outputs": [],
   "source": [
    "plt.figure(figsize=(12,4))\n",
    "\n",
    "ssts.plot(lw=0.7, label='small') # this is all you need\n",
    "sstl.plot(lw=0.7, label='large')\n",
    "\n",
    "# all the stuff here to make it look nice. \n",
    "plt.ylabel('SST ($^\\circ$C)')\n",
    "plt.xlabel('Year')\n",
    "plt.legend(loc=0)\n",
    "plt.grid(True, alpha=0.3)\n",
    "plt.show()\n",
    "\n",
    "plt.scatter(ssts,sstl,10,ssts.time.dt.month,'o', cmap='jet')\n",
    "plt.colorbar()\n",
    "plt.plot([25,31.5],[25,31.5],'k-',lw=1)\n",
    "plt.xlabel('small region')\n",
    "plt.ylabel('large region')\n",
    "plt.grid()\n",
    "plt.show()"
   ]
  },
  {
   "cell_type": "code",
   "execution_count": null,
   "id": "1cc26c06",
   "metadata": {},
   "outputs": [],
   "source": [
    "# Calculate the climatology\n",
    "sst_climatology = ssts.groupby('time.dayofyear').mean('time',keep_attrs=True,skipna=False) # Group by day, all years. skipna ignore missing (NaN) values \n",
    "sst_climstd = ssts.groupby('time.dayofyear').std('time',keep_attrs=True,skipna=False) # Calculate standard deviation. Keep data attributes.\n",
    "\n",
    "# calculate the anomalies\n",
    "sst_anomaly = ssts.groupby('time.dayofyear')-sst_climatology \n",
    "sst_anomaly_monthly = sst_anomaly.resample(time='1MS', loffset='15D').mean(keep_attrs=True,skipna=False) # calculate monthly anomalies/smoothing\n",
    "\n",
    "# make a plot \n",
    "plt.figure(figsize=(12,4))\n",
    "\n",
    "plt.plot(sst_anomaly.time,sst_anomaly, lw=0.5)\n",
    "plt.plot(sst_anomaly_monthly.time,sst_anomaly_monthly, 'r', lw=2)\n",
    "\n",
    "plt.grid()\n",
    "plt.ylabel('SSTa (C)')\n",
    "plt.title('SST Anomalies')\n",
    "plt.show()\n"
   ]
  },
  {
   "cell_type": "markdown",
   "id": "49368c30",
   "metadata": {},
   "source": [
    "***\n",
    "#### Now, a different analsys of anomalously warm SST days. \n",
    "## Marine heatwaves\n",
    "Defined as any period with SST anomalies above the threshold determined by the 90th percentile value of a given period - in this case our data time period.***\n"
   ]
  },
  {
   "cell_type": "code",
   "execution_count": null,
   "id": "f1783c90",
   "metadata": {},
   "outputs": [],
   "source": [
    "# first, calculate the threshold: 90th percentile\n",
    "thr = np.percentile(sst_anomaly, 90)\n",
    "\n",
    "fig, axs = plt.subplots(3,1,figsize=(16,16)) # make a figure of 3 vertical panels\n",
    "\n",
    "# same plot as in our function above, but this time we are plotting the anomalies.\n",
    "plt.subplot(3,1,1) \n",
    "plt.plot(sst_anomaly.time,sst_anomaly.data, lw=1)\n",
    "plt.axhline(y=0, c='k', zorder=0, alpha=0.5) # add a line to highlight the x axis \n",
    "a=sst_anomaly>=thr # select data above the threshold\n",
    "plt.plot(sst_anomaly.time[a], sst_anomaly.data[a],'.r', markersize=3)\n",
    "# all stuff here to make it look good\n",
    "plt.ylabel('SST anomalies ($^\\circ$C)')\n",
    "plt.xlabel('Year')\n",
    "plt.grid(True, alpha=0.3)\n",
    "\n",
    "# Now plot on the original data (not anomalies)\n",
    "plt.subplot(3,1,2) # second panel\n",
    "plt.plot(ssts.time,ssts.data, lw=1)\n",
    "plt.plot(ssts.time[a], ssts.data[a],'.r', markersize=3) # plot only the values equal or above threshold\n",
    "# all stuff here to make it look good\n",
    "plt.ylabel('SST ($^\\circ$C)')\n",
    "plt.xlabel('Year')\n",
    "plt.grid(True, alpha=0.3)\n",
    "\n",
    "# plot of marine heatwave days  per year\n",
    "dts = sst_anomaly[sst_anomaly>=thr].time\n",
    "mhw = dts.groupby('time.year').count()\n",
    "plt.subplot(3,1,3) # third panel\n",
    "plt.bar(mhw.year,mhw)\n",
    "plt.ylabel('No. days SSTa > '+str(np.round(thr,1))+'C')\n",
    "plt.grid(True, alpha=0.3)\n",
    "plt.show()\n",
    "\n",
    "mhw # print the numbers of days"
   ]
  },
  {
   "cell_type": "code",
   "execution_count": null,
   "id": "efec1488",
   "metadata": {},
   "outputs": [],
   "source": []
  },
  {
   "cell_type": "code",
   "execution_count": null,
   "id": "6829115c",
   "metadata": {},
   "outputs": [],
   "source": []
  }
 ],
 "metadata": {
  "kernelspec": {
   "display_name": "Python 3 (ipykernel)",
   "language": "python",
   "name": "python3"
  },
  "language_info": {
   "codemirror_mode": {
    "name": "ipython",
    "version": 3
   },
   "file_extension": ".py",
   "mimetype": "text/x-python",
   "name": "python",
   "nbconvert_exporter": "python",
   "pygments_lexer": "ipython3",
   "version": "3.11.4"
  }
 },
 "nbformat": 4,
 "nbformat_minor": 5
}
